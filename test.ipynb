{
 "cells": [
  {
   "cell_type": "code",
   "execution_count": 2,
   "id": "15f3d02c",
   "metadata": {},
   "outputs": [],
   "source": [
    "from danial import model"
   ]
  },
  {
   "cell_type": "code",
   "execution_count": 3,
   "id": "abe13bff",
   "metadata": {},
   "outputs": [
    {
     "name": "stderr",
     "output_type": "stream",
     "text": [
      "/Users/dania/code/fyp/MHNet/310/lib/python3.10/site-packages/torchvision/models/_utils.py:208: UserWarning: The parameter 'pretrained' is deprecated since 0.13 and may be removed in the future, please use 'weights' instead.\n",
      "  warnings.warn(\n",
      "/Users/dania/code/fyp/MHNet/310/lib/python3.10/site-packages/torchvision/models/_utils.py:223: UserWarning: Arguments other than a weight enum or `None` for 'weights' are deprecated since 0.13 and may be removed in the future. The current behavior is equivalent to passing `weights=VGG16_Weights.IMAGENET1K_V1`. You can also use `weights=VGG16_Weights.DEFAULT` to get the most up-to-date weights.\n",
      "  warnings.warn(msg)\n"
     ]
    }
   ],
   "source": [
    "mod = model.Model()"
   ]
  },
  {
   "cell_type": "code",
   "execution_count": 4,
   "id": "0270a594",
   "metadata": {},
   "outputs": [
    {
     "name": "stdout",
     "output_type": "stream",
     "text": [
      "Model Components:\n",
      "- VGG Backbone\n",
      "- Selective Weighted Attention (SPG)\n",
      "- F3 Convolution\n",
      "- PRM (Perception Refinement Module)\n",
      "- PreFCS\n",
      "- CRFCS (Conditional Random Field based Camouflage Segmentation)\n"
     ]
    }
   ],
   "source": [
    "mod.summary()"
   ]
  }
 ],
 "metadata": {
  "kernelspec": {
   "display_name": "310",
   "language": "python",
   "name": "python3"
  },
  "language_info": {
   "codemirror_mode": {
    "name": "ipython",
    "version": 3
   },
   "file_extension": ".py",
   "mimetype": "text/x-python",
   "name": "python",
   "nbconvert_exporter": "python",
   "pygments_lexer": "ipython3",
   "version": "3.10.18"
  }
 },
 "nbformat": 4,
 "nbformat_minor": 5
}
