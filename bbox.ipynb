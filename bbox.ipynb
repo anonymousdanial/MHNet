{
 "cells": [
  {
   "cell_type": "code",
   "execution_count": 4,
   "id": "0186e776",
   "metadata": {},
   "outputs": [],
   "source": [
    "import cv2\n",
    "import numpy as np\n",
    "import matplotlib.pyplot as plt"
   ]
  },
  {
   "cell_type": "code",
   "execution_count": 5,
   "id": "7264ec1d",
   "metadata": {},
   "outputs": [],
   "source": [
    "\n",
    "def find_mask_bounds(image_path):\n",
    "    \"\"\"\n",
    "    Load an RGB image with a white mask and find its bounding box.\n",
    "    \n",
    "    Args:\n",
    "        image_path: Path to the image file\n",
    "        \n",
    "    Returns:\n",
    "        tuple: (top, bottom, left, right) coordinates of the bounding box\n",
    "    \"\"\"\n",
    "    # Load the image\n",
    "    img = cv2.imread(image_path)\n",
    "    if img is None:\n",
    "        raise ValueError(f\"Could not load image from {image_path}\")\n",
    "    \n",
    "    # Convert BGR to RGB (OpenCV loads as BGR)\n",
    "    img_rgb = cv2.cvtColor(img, cv2.COLOR_BGR2RGB)\n",
    "    \n",
    "    # Convert to grayscale to find white pixels\n",
    "    gray = cv2.cvtColor(img, cv2.COLOR_BGR2GRAY)\n",
    "    \n",
    "    # Find all white pixels (mask area)\n",
    "    # Assuming white is close to 255, you can adjust threshold if needed\n",
    "    mask_pixels = np.where(gray > 200)\n",
    "    \n",
    "    if len(mask_pixels[0]) == 0:\n",
    "        raise ValueError(\"No mask pixels found in the image\")\n",
    "    \n",
    "    # Find extreme coordinates\n",
    "    top = np.min(mask_pixels[0])      # topmost y-coordinate\n",
    "    bottom = np.max(mask_pixels[0])   # bottommost y-coordinate\n",
    "    left = np.min(mask_pixels[1])     # leftmost x-coordinate\n",
    "    right = np.max(mask_pixels[1])    # rightmost x-coordinate\n",
    "    \n",
    "    return img_rgb, top, bottom, left, right\n",
    "\n",
    "def draw_bounding_box(img, top, bottom, left, right):\n",
    "    \"\"\"\n",
    "    Draw a bounding box on the image.\n",
    "    \n",
    "    Args:\n",
    "        img: RGB image array\n",
    "        top, bottom, left, right: Bounding box coordinates\n",
    "    \"\"\"\n",
    "    # Create a copy to draw on\n",
    "    img_with_box = img.copy()\n",
    "    \n",
    "    # Draw the bounding box (in red)\n",
    "    color = (255, 0, 0)  # Red in RGB\n",
    "    thickness = 2\n",
    "    \n",
    "    # Draw rectangle\n",
    "    cv2.rectangle(img_with_box, (left, top), (right, bottom), color, thickness)\n",
    "    \n",
    "    # Display the image\n",
    "    plt.figure(figsize=(10, 8))\n",
    "    plt.imshow(img_with_box)\n",
    "    plt.title(f'Bounding Box: Top={top}, Bottom={bottom}, Left={left}, Right={right}')\n",
    "    plt.axis('off')\n",
    "    plt.tight_layout()\n",
    "    plt.show()\n",
    "    \n",
    "    return img_with_box"
   ]
  },
  {
   "cell_type": "code",
   "execution_count": null,
   "id": "ff4d0236",
   "metadata": {},
   "outputs": [
    {
     "name": "stdout",
     "output_type": "stream",
     "text": [
      "Error: Could not load image from asstest-images/masks/camo-fish.png\n"
     ]
    },
    {
     "name": "stderr",
     "output_type": "stream",
     "text": [
      "[ WARN:0@4.937] global loadsave.cpp:275 findDecoder imread_('asstest-images/masks/camo-fish.png'): can't open/read file: check file path/integrity\n"
     ]
    }
   ],
   "source": [
    "# Replace with your image path\n",
    "image_path = \"test-images/masks/camo-fish.png\"\n",
    "\n",
    "try:\n",
    "    # Find the bounding box\n",
    "    img, top, bottom, left, right = find_mask_bounds(image_path)\n",
    "    \n",
    "    # Print the coordinates\n",
    "    print(f\"Bounding Box Coordinates:\")\n",
    "    print(f\"  Top:    {top}\")\n",
    "    print(f\"  Bottom: {bottom}\")\n",
    "    print(f\"  Left:   {left}\")\n",
    "    print(f\"  Right:  {right}\")\n",
    "    print(f\"\\nBounding Box Size: {right - left} x {bottom - top} pixels\")\n",
    "    \n",
    "    # Draw and display the bounding box\n",
    "    draw_bounding_box(img, top, bottom, left, right)\n",
    "    \n",
    "except Exception as e:\n",
    "    print(f\"Error: {e}\")"
   ]
  },
  {
   "cell_type": "code",
   "execution_count": null,
   "id": "7e6b09cb",
   "metadata": {},
   "outputs": [],
   "source": []
  }
 ],
 "metadata": {
  "kernelspec": {
   "display_name": "vengeance",
   "language": "python",
   "name": "python3"
  },
  "language_info": {
   "codemirror_mode": {
    "name": "ipython",
    "version": 3
   },
   "file_extension": ".py",
   "mimetype": "text/x-python",
   "name": "python",
   "nbconvert_exporter": "python",
   "pygments_lexer": "ipython3",
   "version": "3.10.18"
  }
 },
 "nbformat": 4,
 "nbformat_minor": 5
}
